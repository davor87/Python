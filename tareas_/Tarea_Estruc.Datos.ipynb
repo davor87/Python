{
 "cells": [
  {
   "cell_type": "markdown",
   "metadata": {},
   "source": [
    "   ## pregunta 1"
   ]
  },
  {
   "cell_type": "code",
   "execution_count": 9,
   "metadata": {},
   "outputs": [
    {
     "name": "stdout",
     "output_type": "stream",
     "text": [
      "Introduce el coeficiente de x^2: 2\n",
      "Introduce el coeficiente para x: -2\n",
      "Introduce el termino independiente: 1\n",
      "La ecuacion tiene dos posibles soluciones, una real xr = 0.50 y una imaginarinaria xi = 0.50i\n"
     ]
    }
   ],
   "source": [
    "import math\n",
    "def ecuacion_grado2():\n",
    "    correcto=False\n",
    "    while(not correcto):\n",
    "        try:\n",
    "            a = float(input(\"Introduce el coeficiente de x^2: \"))\n",
    "            if a==0:\n",
    "                a = float(input(\"el valor cuadratico no puede ser 0, intentelo de nuevo: \"))\n",
    "            b = float(input(\"Introduce el coeficiente para x: \"))\n",
    "            c = float(input(\"Introduce el termino independiente: \"))\n",
    "            correcto=True\n",
    "        except ValueError:\n",
    "            print(\"Error, el valor introducido no es un valor real\")\n",
    "    \n",
    "    discriminante = (b**2) - (4*a*c)\n",
    "    if discriminante > 0:\n",
    "        x1 = (-b + math.sqrt(discriminante)) / (2 * a)\n",
    "        x2 = (-b - math.sqrt(discriminante)) / (2 * a)\n",
    "        print(\"La ecuacion tiene dos posibles soluciones: x1 = %.2f y x2 = %.2f\" % (x1, x2))\n",
    "    else:\n",
    "        if discriminante == 0:\n",
    "            x1 = -b / (2 * a)\n",
    "            print(\"La ecuacion tiene una posible solucion: x = %.2f\" % (x1))\n",
    "        else:\n",
    "            xr = -b / (2 * a)\n",
    "            xi = (math.sqrt(-discriminante)) / (2 * a)\n",
    "            print(\"La ecuacion tiene dos posibles soluciones, una real xr = %.2f y una imaginarinaria xi = %.2fi\" % (xr, xi))\n",
    "\n",
    "ecuacion_grado2()"
   ]
  },
  {
   "cell_type": "markdown",
   "metadata": {},
   "source": [
    "   ## pregunta 2"
   ]
  },
  {
   "cell_type": "code",
   "execution_count": 101,
   "metadata": {},
   "outputs": [],
   "source": [
    "from unicodedata import normalize\n",
    "def palindromo():\n",
    "    cad = str(input(\"Introduce una cadena de carácteres:  \")).lower().replace(\" \",\"\") # convierte a minusculas y elimina espacios\n",
    "    cadena = normalize(\"NFKD\", cad) #quita las tildes \n",
    "    i = 0\n",
    "    j = len(cadena)\n",
    "    while (i < j):\n",
    "        if cadena[i] == cadena[j-1] :\n",
    "            i += 1\n",
    "            j -= 1   \n",
    "        else:\n",
    "            return print(\"La cadena de carácteres : %s\" % (cadena) + \"  --> NO es un palindromo\")\n",
    "        \n",
    "    print(\"La cadena de carácteres : %s\" % (cadena) + \"  --> es un palindromo\")\n"
   ]
  },
  {
   "cell_type": "code",
   "execution_count": 102,
   "metadata": {},
   "outputs": [
    {
     "name": "stdout",
     "output_type": "stream",
     "text": [
      "Introduce una cadena de carácteres:  La ruta nos aportó otro paso natural\n",
      "La cadena de carácteres : larutanosaportóotropasonatural  --> es un palindromo\n"
     ]
    }
   ],
   "source": [
    "palindromo()"
   ]
  },
  {
   "cell_type": "markdown",
   "metadata": {},
   "source": [
    "## pregunta 3"
   ]
  },
  {
   "cell_type": "code",
   "execution_count": 110,
   "metadata": {},
   "outputs": [
    {
     "data": {
      "text/plain": [
       "{'1': 1.0,\n",
       " '2': 1.4142135623730951,\n",
       " '3': 1.7320508075688772,\n",
       " '4': 2.0,\n",
       " '5': 2.23606797749979,\n",
       " '6': 2.449489742783178,\n",
       " '7': 2.6457513110645907,\n",
       " '8': 2.8284271247461903,\n",
       " '9': 3.0,\n",
       " '10': 3.1622776601683795}"
      ]
     },
     "execution_count": 110,
     "metadata": {},
     "output_type": "execute_result"
    }
   ],
   "source": [
    "import math\n",
    "dic_raiz = {\"1\":math.sqrt(1),\"2\":math.sqrt(2),\"3\":math.sqrt(3),\"4\":math.sqrt(4),\"5\":math.sqrt(5),\n",
    "           \"6\":math.sqrt(6),\"7\":math.sqrt(7),\"8\":math.sqrt(8),\"9\":math.sqrt(9),\"10\":math.sqrt(10)}\n",
    "dic_raiz"
   ]
  },
  {
   "cell_type": "markdown",
   "metadata": {},
   "source": [
    "## pregunta 4"
   ]
  },
  {
   "cell_type": "code",
   "execution_count": 111,
   "metadata": {},
   "outputs": [
    {
     "name": "stdout",
     "output_type": "stream",
     "text": [
      "Introduce una cadena de carácteres:  el tio de mi abuelo no se quien es\n",
      "['·', '· — · ·', ' ', '—', '· ·', '— — —', ' ', '— · ·', '·', ' ', '— —', '· ·', ' ', '· —', '— · · ·', '· · —', '·', '· — · ·', '— — —', ' ', '— ·', '— — —', ' ', '· · ·', '·', ' ', '— — · —', '· · —', '· ·', '·', '— ·', ' ', '·', '· · ·']\n"
     ]
    }
   ],
   "source": [
    "alfabeto_morse = {\"a\":\"· —\",\"b\":\"— · · ·\",\"c\":\"— · — ·\",\"ch\":\"— — — —\",\"d\":\"— · ·\",\"e\":\"·\",\n",
    "                  \"f\":\"· · — ·\",\"g\":\"— — ·\",\"h\":\"· · · ·\",\"i\":\"· ·\",\"j\":\"· — — —\",\"k\":\"— · —\",\n",
    "                  \"l\":\"· — · ·\",\"m\":\"— —\",\"n\":\"— ·\",\"ñ\":\"— — · — —\",\"o\":\"— — —\",\"p\":\"· — — ·\",\n",
    "                  \"q\":\"— — · —\",\"r\":\"· — ·\",\"s\":\"· · ·\",\"t\":\"—\",\"u\":\"· · —\",\"v\":\"· · · —\",\n",
    "                  \"w\":\"· — —\",\"x\":\"— · · —\",\"y\":\"— · — —\",\"z\":\"— — · ·\"}\n",
    "\n",
    "cadena = str(input(\"Introduce una cadena de carácteres:  \")).lower()\n",
    "cadena_morse = []\n",
    "for L in cadena:\n",
    "    if L == \" \":\n",
    "        cadena_morse.append(\" \")\n",
    "    else:\n",
    "        cadena_morse.append(alfabeto_morse[L])\n",
    "print(cadena_morse)"
   ]
  },
  {
   "cell_type": "markdown",
   "metadata": {},
   "source": [
    "## pregunta 5"
   ]
  },
  {
   "cell_type": "code",
   "execution_count": 134,
   "metadata": {},
   "outputs": [],
   "source": [
    "A = {\"Javi\": 6, \"Diego\": 25, \"Laura\": 31}\n",
    "B = {\"Luis\": 2, \"Javi\": 25, \"Teresa\": 33}\n",
    "def presente(A,B):\n",
    "    for i in A:\n",
    "        if (i in B) == True:\n",
    "            print(\"La clave: %s\" %i + \", está presente en ambos diccionarios\")\n",
    "    "
   ]
  },
  {
   "cell_type": "code",
   "execution_count": 135,
   "metadata": {},
   "outputs": [
    {
     "name": "stdout",
     "output_type": "stream",
     "text": [
      "La clave: Javi, está presente en ambos diccionarios\n"
     ]
    }
   ],
   "source": [
    "presente(A,B)"
   ]
  },
  {
   "cell_type": "markdown",
   "metadata": {},
   "source": [
    "## pregunta 6"
   ]
  },
  {
   "cell_type": "code",
   "execution_count": 37,
   "metadata": {},
   "outputs": [],
   "source": [
    "def es_primo(n):\n",
    "    if (n == 1) | (n == 0):\n",
    "         return print(\"NO es un numero primo\")\n",
    "    else:   \n",
    "        primo = True\n",
    "        for p in range(2,n):\n",
    "            if (n%p == 0):\n",
    "                primo = False\n",
    "    \n",
    "        if primo == True:\n",
    "            print(\"Es un numero primo\")\n",
    "        else:\n",
    "            print(\"NO es un numero primo\")"
   ]
  },
  {
   "cell_type": "code",
   "execution_count": 46,
   "metadata": {},
   "outputs": [
    {
     "name": "stdout",
     "output_type": "stream",
     "text": [
      "Es un numero primo\n"
     ]
    }
   ],
   "source": [
    "es_primo(977)"
   ]
  },
  {
   "cell_type": "markdown",
   "metadata": {},
   "source": [
    "## pregunta 7"
   ]
  },
  {
   "cell_type": "code",
   "execution_count": 11,
   "metadata": {},
   "outputs": [],
   "source": [
    "def PoneMayusculas():\n",
    "    frase = input(\"Introduce una frase :\")\n",
    "    F = frase.split(\" \")\n",
    "    for i in range(len(F)):\n",
    "        print(F[i].capitalize())"
   ]
  },
  {
   "cell_type": "code",
   "execution_count": 13,
   "metadata": {},
   "outputs": [
    {
     "name": "stdout",
     "output_type": "stream",
     "text": [
      "Introduce una frase :hola yo me llamo david\n",
      "Hola\n",
      "Yo\n",
      "Me\n",
      "Llamo\n",
      "David\n"
     ]
    }
   ],
   "source": [
    "PoneMayusculas()"
   ]
  },
  {
   "cell_type": "markdown",
   "metadata": {},
   "source": [
    "## pregunta 8"
   ]
  },
  {
   "cell_type": "code",
   "execution_count": 7,
   "metadata": {
    "scrolled": true
   },
   "outputs": [
    {
     "name": "stdout",
     "output_type": "stream",
     "text": [
      "Introduce el primer numero: 1\n",
      "Introduce el segundo numero: 0\n",
      "el valor de alguno de los dos numeros no puede ser 0\n"
     ]
    }
   ],
   "source": [
    "def MCD(x,y):\n",
    "    resto = 0\n",
    "    \n",
    "    while(y > 0):\n",
    "        resto = y\n",
    "        y = x % y\n",
    "        x = resto\n",
    "    return x\n",
    "\n",
    "n1 = int(input(\"Introduce el primer numero: \"))\n",
    "n2 = int(input(\"Introduce el segundo numero: \"))\n",
    "if ((n1>0) & (n2>0)):\n",
    "    print(\"El máximo común divisor de los numeros\", n1,\" y \", n2,\" es \", MCD(n1, n2))\n",
    "else:\n",
    "    print(\"el valor de alguno de los dos numeros no puede ser 0\")"
   ]
  },
  {
   "cell_type": "markdown",
   "metadata": {},
   "source": [
    "## pregunta 9"
   ]
  },
  {
   "cell_type": "code",
   "execution_count": 9,
   "metadata": {},
   "outputs": [],
   "source": [
    "def cice():\n",
    "    abecedario = \"abcdefghijklmnñopqrstuvwxyz\"\n",
    "    cifrado = \"\"\n",
    "    cadena = input(\"Escribe un mensaje: \")\n",
    "    for l in cadena:\n",
    "        if l in abecedario:\n",
    "            cifrado += abecedario[(abecedario.index(l)+3)%(len(abecedario))]\n",
    "        else:\n",
    "            cifrado += l   \n",
    "    print(\"mensaje cifrado del César: \",cifrado)"
   ]
  },
  {
   "cell_type": "code",
   "execution_count": 10,
   "metadata": {
    "scrolled": false
   },
   "outputs": [
    {
     "name": "stdout",
     "output_type": "stream",
     "text": [
      "Escribe un mensaje: super cifrado a ver quien lo descifra\n",
      "mensaje cifrado del César:  vxshu fliudgr d yhu txlhp ñr ghvfliud\n"
     ]
    }
   ],
   "source": [
    "cice()"
   ]
  },
  {
   "cell_type": "markdown",
   "metadata": {},
   "source": [
    "## pregunta 10"
   ]
  },
  {
   "cell_type": "code",
   "execution_count": 30,
   "metadata": {},
   "outputs": [
    {
     "name": "stdout",
     "output_type": "stream",
     "text": [
      "orden introducido :\n",
      " ['Alberto', 'Mario', 'Alicia', 'Jose', 'Carlos', 'Monica', 'Cristina', 'Lorena']\n",
      "de forma alfabética :\n",
      " ['Alberto', 'Alicia', 'Carlos', 'Cristina', 'Jose', 'Lorena', 'Mario', 'Monica']\n",
      "de forma alfabética invertida :\n",
      " ['Monica', 'Mario', 'Lorena', 'Jose', 'Cristina', 'Carlos', 'Alicia', 'Alberto']\n",
      "de longitud corta a larga :\n",
      " ['Jose', 'Mario', 'Alicia', 'Carlos', 'Monica', 'Lorena', 'Alberto', 'Cristina']\n"
     ]
    }
   ],
   "source": [
    "lista_nombres = [\"Alberto\",\"Mario\",\"Alicia\",\"Jose\",\"Carlos\",\"Monica\",\"Cristina\",\"Lorena\"]\n",
    "\n",
    "print('orden introducido :\\n', lista_nombres)\n",
    "print('de forma alfabética :\\n', sorted(lista_nombres))\n",
    "print('de forma alfabética invertida :\\n', sorted(lista_nombres, reverse = True))\n",
    "print('de longitud corta a larga :\\n', sorted(lista_nombres, key = len))"
   ]
  },
  {
   "cell_type": "code",
   "execution_count": null,
   "metadata": {},
   "outputs": [],
   "source": []
  }
 ],
 "metadata": {
  "kernelspec": {
   "display_name": "Python 3",
   "language": "python",
   "name": "python3"
  },
  "language_info": {
   "codemirror_mode": {
    "name": "ipython",
    "version": 3
   },
   "file_extension": ".py",
   "mimetype": "text/x-python",
   "name": "python",
   "nbconvert_exporter": "python",
   "pygments_lexer": "ipython3",
   "version": "3.7.1"
  }
 },
 "nbformat": 4,
 "nbformat_minor": 2
}
